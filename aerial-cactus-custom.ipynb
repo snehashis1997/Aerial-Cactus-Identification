{
 "cells": [
  {
   "cell_type": "code",
   "execution_count": 1,
   "metadata": {},
   "outputs": [],
   "source": [
    "import numpy as np\n",
    "seed = 42\n",
    "np.random.seed(seed)"
   ]
  },
  {
   "cell_type": "code",
   "execution_count": 2,
   "metadata": {
    "_cell_guid": "79c7e3d0-c299-4dcb-8224-4455121ee9b0",
    "_uuid": "d629ff2d2480ee46fbb7e2d37f6b5fab8052498a"
   },
   "outputs": [],
   "source": [
    "import cv2\n",
    "from glob import glob\n",
    "import pandas as pd \n",
    "import numpy as np\n",
    "from tqdm import tqdm"
   ]
  },
  {
   "cell_type": "code",
   "execution_count": 3,
   "metadata": {},
   "outputs": [
    {
     "name": "stderr",
     "output_type": "stream",
     "text": [
      "Using TensorFlow backend.\n"
     ]
    }
   ],
   "source": [
    "from sklearn.metrics import confusion_matrix\n",
    "import cv2\n",
    "import copy\n",
    "import matplotlib.pyplot as plt\n",
    "from keras.models import Sequential\n",
    "from keras.layers import Conv2D,BatchNormalization,Convolution2D,MaxPooling2D\n",
    "from keras.layers import Flatten,Activation\n",
    "from keras.layers import Dropout\n",
    "from keras.optimizers import Adam\n",
    "from keras.callbacks import EarlyStopping\n",
    "from keras import initializers\n",
    "import numpy as np\n",
    "from keras import regularizers\n",
    "\n",
    "from sklearn.preprocessing import LabelEncoder\n",
    "from keras.utils.np_utils import to_categorical\n",
    "from sklearn.metrics import confusion_matrix,classification_report\n",
    "from sklearn.metrics import auc,roc_curve,roc_auc_score\n",
    "\n",
    "from sklearn.model_selection import train_test_split\n",
    "from keras.utils.np_utils import to_categorical # convert to one-hot-encoding\n",
    "from keras.layers import Dense\n",
    "from keras.preprocessing.image import ImageDataGenerator\n",
    "from keras.callbacks import ReduceLROnPlateau\n",
    "from glob import glob\n",
    "import pandas as pd\n",
    "import os"
   ]
  },
  {
   "cell_type": "code",
   "execution_count": 4,
   "metadata": {},
   "outputs": [
    {
     "data": {
      "text/plain": [
       "17500"
      ]
     },
     "execution_count": 4,
     "metadata": {},
     "output_type": "execute_result"
    }
   ],
   "source": [
    "pngs=glob(r'../input/train/train/*.jpg')\n",
    "len(pngs)"
   ]
  },
  {
   "cell_type": "code",
   "execution_count": 5,
   "metadata": {},
   "outputs": [],
   "source": [
    "df=pd.read_csv(r'../input/train.csv')"
   ]
  },
  {
   "cell_type": "code",
   "execution_count": 6,
   "metadata": {},
   "outputs": [],
   "source": [
    "height=32\n",
    "\n",
    "width=32\n",
    "\n",
    "batchsize=32\n",
    "\n",
    "channel=1\n",
    "\n",
    "ch=0"
   ]
  },
  {
   "cell_type": "code",
   "execution_count": 7,
   "metadata": {},
   "outputs": [],
   "source": [
    "dataset=[]\n",
    "\n",
    "y_true=[]\n",
    "\n",
    "for i in range(len(pngs)):\n",
    "    \n",
    "    name=r'../input/train/train/' + str(df['id'][i])\n",
    "    \n",
    "    y_true.append(df['has_cactus'][i])\n",
    "    \n",
    "    img=cv2.imread(name,ch)\n",
    "    \n",
    "    dataset.append(img)"
   ]
  },
  {
   "cell_type": "code",
   "execution_count": 8,
   "metadata": {},
   "outputs": [],
   "source": [
    "dataset=np.array(dataset)\n",
    "\n",
    "y_true=np.array(y_true)"
   ]
  },
  {
   "cell_type": "code",
   "execution_count": 9,
   "metadata": {},
   "outputs": [],
   "source": [
    "dataset = dataset.reshape(-1,height,width,channel)"
   ]
  },
  {
   "cell_type": "code",
   "execution_count": 10,
   "metadata": {},
   "outputs": [
    {
     "data": {
      "text/plain": [
       "array([1, 1, 1, ..., 1, 0, 1])"
      ]
     },
     "execution_count": 10,
     "metadata": {},
     "output_type": "execute_result"
    }
   ],
   "source": [
    "y_true"
   ]
  },
  {
   "cell_type": "code",
   "execution_count": 11,
   "metadata": {},
   "outputs": [
    {
     "data": {
      "text/plain": [
       "(17500, 32, 32, 1)"
      ]
     },
     "execution_count": 11,
     "metadata": {},
     "output_type": "execute_result"
    }
   ],
   "source": [
    "dataset.shape"
   ]
  },
  {
   "cell_type": "code",
   "execution_count": 12,
   "metadata": {},
   "outputs": [
    {
     "data": {
      "text/plain": [
       "(32, 32, 1)"
      ]
     },
     "execution_count": 12,
     "metadata": {},
     "output_type": "execute_result"
    }
   ],
   "source": [
    "img=dataset[1]\n",
    "img.shape\n",
    "\n",
    "#plt.imshow(img)\n",
    "#plt.show()"
   ]
  },
  {
   "cell_type": "code",
   "execution_count": 13,
   "metadata": {},
   "outputs": [
    {
     "data": {
      "text/plain": [
       "numpy.ndarray"
      ]
     },
     "execution_count": 13,
     "metadata": {},
     "output_type": "execute_result"
    }
   ],
   "source": [
    "type(dataset)"
   ]
  },
  {
   "cell_type": "code",
   "execution_count": 14,
   "metadata": {},
   "outputs": [
    {
     "name": "stdout",
     "output_type": "stream",
     "text": [
      "okay\n"
     ]
    }
   ],
   "source": [
    "x_train,x_val,y_train,y_val=train_test_split(dataset,y_true,shuffle=True,test_size=0.5)\n",
    "\n",
    "print('okay')"
   ]
  },
  {
   "cell_type": "code",
   "execution_count": 15,
   "metadata": {},
   "outputs": [],
   "source": [
    "earlystop = EarlyStopping(monitor = 'val_loss', \n",
    "                          min_delta = 0, \n",
    "                          patience = 6,\n",
    "                          verbose = 1,mode='min',\n",
    "                          restore_best_weights = True)\n",
    "\n",
    "reduce_lr = ReduceLROnPlateau(monitor = 'val_loss', mode='min',factor = 0.2, patience = 1, verbose = 1, min_delta = 0.0001)\n",
    "\n",
    "# we put our call backs into a callback list\n",
    "callbacks = [earlystop,reduce_lr]"
   ]
  },
  {
   "cell_type": "code",
   "execution_count": 16,
   "metadata": {},
   "outputs": [],
   "source": [
    "train_datagen = ImageDataGenerator(rescale=1./255,rotation_range=15,\n",
    "                                    width_shift_range=0.1,\n",
    "                                    height_shift_range=0.1,\n",
    "                                    shear_range=0.2,\n",
    "                                    zoom_range=0.2,\n",
    "                                    horizontal_flip=True,\n",
    "                                    fill_mode='nearest')\n",
    "\n",
    "test_datagen=ImageDataGenerator(rescale=1./255)"
   ]
  },
  {
   "cell_type": "code",
   "execution_count": 17,
   "metadata": {},
   "outputs": [],
   "source": [
    "model=Sequential()\n",
    "#model.add(GaussianNoise(0.1))\n",
    "model.add(Convolution2D(8,kernel_size=(3,3),\n",
    "                        activation='relu',\n",
    "                        kernel_regularizer=regularizers.l2(0.00001),\n",
    "                        input_shape=(height,width,channel)))\n",
    "model.add(BatchNormalization())\n",
    "model.add(MaxPooling2D(2,2))\n",
    "model.add(Dropout(0.5))\n",
    "\n",
    "model.add(Convolution2D(8,kernel_size=(3,3),\n",
    "                        activation='relu',\n",
    "                        kernel_regularizer=regularizers.l2(0.00001)))\n",
    "model.add(BatchNormalization())\n",
    "model.add(MaxPooling2D(2,2))\n",
    "model.add(Dropout(0.5))\n",
    "\n",
    "model.add(Convolution2D(16,kernel_size=(5,5),\n",
    "                        activation='relu',\n",
    "                        kernel_regularizer=regularizers.l2(0.00001)))\n",
    "model.add(BatchNormalization())\n",
    "model.add(MaxPooling2D(2,2))\n",
    "model.add(Dropout(0.5))\n",
    "\n",
    "model.add(Flatten())\n",
    "model.add(Dense(32*4,\n",
    "                activation='relu',\n",
    "                kernel_regularizer=regularizers.l2(0.00001)))\n",
    "\n",
    "model.add(BatchNormalization())\n",
    "model.add(Dropout(0.8))\n",
    "\n",
    "model.add(Dense(1,activation='sigmoid'))"
   ]
  },
  {
   "cell_type": "code",
   "execution_count": 18,
   "metadata": {},
   "outputs": [],
   "source": [
    "model.compile(optimizer=Adam(0.0001), loss='binary_crossentropy', metrics=['acc'])\n",
    "va = EarlyStopping(monitor='val_loss',verbose=1, patience=50)"
   ]
  },
  {
   "cell_type": "code",
   "execution_count": 19,
   "metadata": {},
   "outputs": [
    {
     "name": "stdout",
     "output_type": "stream",
     "text": [
      "Epoch 1/40\n",
      "273/273 [==============================] - 31s 113ms/step - loss: 1.2129 - acc: 0.5345 - val_loss: 1.0437 - val_acc: 0.2725\n",
      "Epoch 2/40\n",
      "273/273 [==============================] - 26s 94ms/step - loss: 1.0282 - acc: 0.5794 - val_loss: 0.8348 - val_acc: 0.3618\n",
      "Epoch 3/40\n",
      "273/273 [==============================] - 26s 94ms/step - loss: 0.9067 - acc: 0.6150 - val_loss: 0.7450 - val_acc: 0.4703\n",
      "Epoch 4/40\n",
      "273/273 [==============================] - 26s 94ms/step - loss: 0.8611 - acc: 0.6238 - val_loss: 0.6414 - val_acc: 0.6086\n",
      "Epoch 5/40\n",
      "273/273 [==============================] - 25s 93ms/step - loss: 0.7857 - acc: 0.6511 - val_loss: 0.5913 - val_acc: 0.6893\n",
      "Epoch 6/40\n",
      "273/273 [==============================] - 25s 93ms/step - loss: 0.7084 - acc: 0.6801 - val_loss: 0.5275 - val_acc: 0.7586\n",
      "Epoch 7/40\n",
      "273/273 [==============================] - 25s 92ms/step - loss: 0.6576 - acc: 0.7053 - val_loss: 0.4900 - val_acc: 0.7919\n",
      "Epoch 8/40\n",
      "273/273 [==============================] - 25s 92ms/step - loss: 0.5926 - acc: 0.7349 - val_loss: 0.4450 - val_acc: 0.8202\n",
      "Epoch 9/40\n",
      "273/273 [==============================] - 25s 92ms/step - loss: 0.5775 - acc: 0.7420 - val_loss: 0.3708 - val_acc: 0.8646\n",
      "Epoch 10/40\n",
      "273/273 [==============================] - 25s 91ms/step - loss: 0.5310 - acc: 0.7705 - val_loss: 0.3438 - val_acc: 0.8753\n",
      "Epoch 11/40\n",
      "273/273 [==============================] - 25s 91ms/step - loss: 0.5004 - acc: 0.7804 - val_loss: 0.3139 - val_acc: 0.8880\n",
      "Epoch 12/40\n",
      "273/273 [==============================] - 25s 91ms/step - loss: 0.4727 - acc: 0.7920 - val_loss: 0.2880 - val_acc: 0.8970\n",
      "Epoch 13/40\n",
      "273/273 [==============================] - 25s 90ms/step - loss: 0.4588 - acc: 0.8079 - val_loss: 0.2871 - val_acc: 0.8951\n",
      "Epoch 14/40\n",
      "273/273 [==============================] - 25s 91ms/step - loss: 0.4395 - acc: 0.8208 - val_loss: 0.2568 - val_acc: 0.9048\n",
      "Epoch 15/40\n",
      "273/273 [==============================] - 25s 90ms/step - loss: 0.4228 - acc: 0.8312 - val_loss: 0.2373 - val_acc: 0.9113\n",
      "Epoch 16/40\n",
      "273/273 [==============================] - 25s 90ms/step - loss: 0.4075 - acc: 0.8383 - val_loss: 0.2378 - val_acc: 0.9114\n",
      "Epoch 17/40\n",
      "273/273 [==============================] - 25s 91ms/step - loss: 0.4008 - acc: 0.8402 - val_loss: 0.2293 - val_acc: 0.9126\n",
      "Epoch 18/40\n",
      "273/273 [==============================] - 25s 90ms/step - loss: 0.3894 - acc: 0.8480 - val_loss: 0.2189 - val_acc: 0.9153\n",
      "Epoch 19/40\n",
      "273/273 [==============================] - 25s 91ms/step - loss: 0.3762 - acc: 0.8521 - val_loss: 0.2173 - val_acc: 0.9157\n",
      "Epoch 20/40\n",
      "273/273 [==============================] - 25s 90ms/step - loss: 0.3621 - acc: 0.8547 - val_loss: 0.2054 - val_acc: 0.9206\n",
      "Epoch 21/40\n",
      "273/273 [==============================] - 25s 90ms/step - loss: 0.3495 - acc: 0.8652 - val_loss: 0.2067 - val_acc: 0.9183\n",
      "Epoch 22/40\n",
      "273/273 [==============================] - 25s 90ms/step - loss: 0.3398 - acc: 0.8681 - val_loss: 0.2002 - val_acc: 0.9224\n",
      "Epoch 23/40\n",
      "273/273 [==============================] - 25s 90ms/step - loss: 0.3344 - acc: 0.8711 - val_loss: 0.1920 - val_acc: 0.9254\n",
      "Epoch 24/40\n",
      "273/273 [==============================] - 25s 91ms/step - loss: 0.3239 - acc: 0.8693 - val_loss: 0.1953 - val_acc: 0.9243\n",
      "Epoch 25/40\n",
      "273/273 [==============================] - 25s 90ms/step - loss: 0.3354 - acc: 0.8690 - val_loss: 0.1867 - val_acc: 0.9283\n",
      "Epoch 26/40\n",
      "273/273 [==============================] - 24s 90ms/step - loss: 0.3185 - acc: 0.8771 - val_loss: 0.1795 - val_acc: 0.9301\n",
      "Epoch 27/40\n",
      "273/273 [==============================] - 25s 90ms/step - loss: 0.3242 - acc: 0.8760 - val_loss: 0.1865 - val_acc: 0.9274\n",
      "Epoch 28/40\n",
      "273/273 [==============================] - 24s 90ms/step - loss: 0.2994 - acc: 0.8852 - val_loss: 0.1870 - val_acc: 0.9273\n",
      "Epoch 29/40\n",
      "273/273 [==============================] - 25s 90ms/step - loss: 0.3073 - acc: 0.8801 - val_loss: 0.1832 - val_acc: 0.9288\n",
      "Epoch 30/40\n",
      "273/273 [==============================] - 24s 90ms/step - loss: 0.3024 - acc: 0.8866 - val_loss: 0.1738 - val_acc: 0.9310\n",
      "Epoch 31/40\n",
      "273/273 [==============================] - 25s 90ms/step - loss: 0.2982 - acc: 0.8862 - val_loss: 0.1684 - val_acc: 0.9356\n",
      "Epoch 32/40\n",
      "273/273 [==============================] - 24s 89ms/step - loss: 0.3053 - acc: 0.8816 - val_loss: 0.1678 - val_acc: 0.9359\n",
      "Epoch 33/40\n",
      "273/273 [==============================] - 24s 90ms/step - loss: 0.3063 - acc: 0.8819 - val_loss: 0.1659 - val_acc: 0.9358\n",
      "Epoch 34/40\n",
      "273/273 [==============================] - 25s 90ms/step - loss: 0.2815 - acc: 0.8887 - val_loss: 0.1758 - val_acc: 0.9330\n",
      "Epoch 35/40\n",
      "273/273 [==============================] - 25s 90ms/step - loss: 0.2879 - acc: 0.8905 - val_loss: 0.1626 - val_acc: 0.9365\n",
      "Epoch 36/40\n",
      "273/273 [==============================] - 25s 90ms/step - loss: 0.2798 - acc: 0.8921 - val_loss: 0.1562 - val_acc: 0.9397\n",
      "Epoch 37/40\n",
      "273/273 [==============================] - 25s 90ms/step - loss: 0.2760 - acc: 0.8954 - val_loss: 0.1641 - val_acc: 0.9372\n",
      "Epoch 38/40\n",
      "273/273 [==============================] - 25s 90ms/step - loss: 0.2763 - acc: 0.8950 - val_loss: 0.1526 - val_acc: 0.9398\n",
      "Epoch 39/40\n",
      "273/273 [==============================] - 24s 90ms/step - loss: 0.2748 - acc: 0.8943 - val_loss: 0.1656 - val_acc: 0.9356\n",
      "Epoch 40/40\n",
      "273/273 [==============================] - 24s 90ms/step - loss: 0.2735 - acc: 0.8950 - val_loss: 0.1510 - val_acc: 0.9435\n"
     ]
    }
   ],
   "source": [
    "output=model.fit_generator(train_datagen.flow(x=x_train, y=y_train, batch_size=batchsize),\n",
    "                             epochs=40, verbose=1,\n",
    "                             validation_data=test_datagen.flow(x_val,y_val,batch_size=batchsize), \n",
    "                             shuffle=False, steps_per_epoch=x_train.shape[0]//batchsize,\n",
    "                             validation_steps=x_val.shape[0])"
   ]
  },
  {
   "cell_type": "code",
   "execution_count": 20,
   "metadata": {},
   "outputs": [
    {
     "data": {
      "image/png": "[encoded data removed]",
      "text/plain": [
       "<Figure size 432x288 with 1 Axes>"
      ]
     },
     "metadata": {
      "needs_background": "light"
     },
     "output_type": "display_data"
    },
    {
     "data": {
      "image/png": "[encoded data removed]",
      "text/plain": [
       "<Figure size 432x288 with 1 Axes>"
      ]
     },
     "metadata": {
      "needs_background": "light"
     },
     "output_type": "display_data"
    }
   ],
   "source": [
    "plt.plot(output.history['acc'])\n",
    "plt.plot(output.history['val_acc'])\n",
    "plt.title('multiclass classifier 40X accuracy for  view')\n",
    "plt.ylabel('accuracy')\n",
    "plt.xlabel('epoch')\n",
    "plt.legend(['train', 'validation'], loc='upper left')\n",
    "plt.show()\n",
    "# summarize history for loss\n",
    "plt.plot(output.history['loss'])\n",
    "plt.plot(output.history['val_loss'])\n",
    "plt.title('multiclass classifier 40X loss for  view')\n",
    "plt.ylabel('loss')\n",
    "plt.xlabel('epoch')\n",
    "plt.legend(['train', 'validation'], loc='upper left')\n",
    "plt.show()"
   ]
  },
  {
   "cell_type": "code",
   "execution_count": 21,
   "metadata": {},
   "outputs": [],
   "source": [
    "#test=pd.read_csv(r'../input/test.csv')"
   ]
  },
  {
   "cell_type": "code",
   "execution_count": 22,
   "metadata": {},
   "outputs": [],
   "source": [
    "x_test=[]\n",
    "\n",
    "y_test=[]\n",
    "\n",
    "pngs_test=glob(r'../input/test/test/*.jpg')\n",
    "#len(pngs)\n",
    "\n",
    "for i in range(len(pngs_test)):\n",
    "    \n",
    "    img=cv2.imread(pngs_test[i],ch)\n",
    "    \n",
    "    x_test.append(img)"
   ]
  },
  {
   "cell_type": "code",
   "execution_count": 23,
   "metadata": {},
   "outputs": [
    {
     "data": {
      "text/plain": [
       "(4000, 32, 32, 1)"
      ]
     },
     "execution_count": 23,
     "metadata": {},
     "output_type": "execute_result"
    }
   ],
   "source": [
    "x_test=np.array(x_test)\n",
    "x_test=x_test.reshape(-1,height,width,channel)\n",
    "\n",
    "x_test=x_test/np.max(x_test)\n",
    "x_test.shape"
   ]
  },
  {
   "cell_type": "code",
   "execution_count": 24,
   "metadata": {},
   "outputs": [
    {
     "name": "stdout",
     "output_type": "stream",
     "text": [
      "Loss:  0.1397464983165264\n",
      "Accuracy:  0.9515625\n"
     ]
    }
   ],
   "source": [
    "test_err=model.evaluate_generator(test_datagen.flow(x_val,y_val,batch_size=batchsize),steps=20)\n",
    "\n",
    "print('Loss: ',test_err[0])\n",
    "print('Accuracy: ',test_err[1])"
   ]
  },
  {
   "cell_type": "code",
   "execution_count": 25,
   "metadata": {},
   "outputs": [],
   "source": [
    "req=x_val/np.max(x_val)\n",
    "predicted=model.predict_classes(req)"
   ]
  },
  {
   "cell_type": "code",
   "execution_count": 26,
   "metadata": {},
   "outputs": [
    {
     "data": {
      "text/plain": [
       "array([[0],\n",
       "       [0],\n",
       "       [0],\n",
       "       ...,\n",
       "       [0],\n",
       "       [1],\n",
       "       [1]], dtype=int32)"
      ]
     },
     "execution_count": 26,
     "metadata": {},
     "output_type": "execute_result"
    }
   ],
   "source": [
    "predicted"
   ]
  },
  {
   "cell_type": "code",
   "execution_count": 27,
   "metadata": {},
   "outputs": [],
   "source": [
    "cm_binary=confusion_matrix(y_val,predicted)"
   ]
  },
  {
   "cell_type": "code",
   "execution_count": 28,
   "metadata": {},
   "outputs": [],
   "source": [
    "def accuracy(confusion_matrix):\n",
    "    diagonal_sum = confusion_matrix.trace()\n",
    "    sum_of_all_elements = confusion_matrix.sum()\n",
    "    return diagonal_sum / sum_of_all_elements "
   ]
  },
  {
   "cell_type": "code",
   "execution_count": 29,
   "metadata": {},
   "outputs": [],
   "source": [
    "fpr, tpr, _ = roc_curve(y_val,predicted)\n",
    "auc = roc_auc_score(y_val,predicted)"
   ]
  },
  {
   "cell_type": "code",
   "execution_count": 30,
   "metadata": {},
   "outputs": [
    {
     "data": {
      "text/plain": [
       "array([[1943,  245],\n",
       "       [ 250, 6312]])"
      ]
     },
     "execution_count": 30,
     "metadata": {},
     "output_type": "execute_result"
    }
   ],
   "source": [
    "cm_binary"
   ]
  },
  {
   "cell_type": "code",
   "execution_count": 31,
   "metadata": {},
   "outputs": [
    {
     "data": {
      "text/plain": [
       "0.9434285714285714"
      ]
     },
     "execution_count": 31,
     "metadata": {},
     "output_type": "execute_result"
    }
   ],
   "source": [
    "accuracy(cm_binary)"
   ]
  },
  {
   "cell_type": "code",
   "execution_count": 32,
   "metadata": {},
   "outputs": [
    {
     "data": {
      "image/png": "[encoded data removed]",
      "text/plain": [
       "<Figure size 432x288 with 1 Axes>"
      ]
     },
     "metadata": {
      "needs_background": "light"
     },
     "output_type": "display_data"
    }
   ],
   "source": [
    "plt.plot(fpr,tpr,label=\"data 1, auc=\"+str(auc))\n",
    "plt.title('for binary classification')\n",
    "plt.legend(loc=4)\n",
    "plt.show()"
   ]
  },
  {
   "cell_type": "code",
   "execution_count": 33,
   "metadata": {},
   "outputs": [
    {
     "name": "stderr",
     "output_type": "stream",
     "text": [
      "100%|██████████| 4000/4000 [00:00<00:00, 1070658.33it/s]\n"
     ]
    }
   ],
   "source": [
    "pred=model.predict_classes(x_test)\n",
    "ids=[]\n",
    "test_path='../input/test/test'\n",
    "label=[]\n",
    "a=0\n",
    "for i in tqdm(os.listdir(test_path)):\n",
    "    id=i\n",
    "    ids.append(id)\n",
    "    label.append(pred[a])\n",
    "    a=a+1\n",
    "\n",
    "label=np.array(label,dtype='float64')\n",
    "out=pd.DataFrame({'id': ids,'has_cactus':label[:,0]})\n",
    "\n",
    "out.to_csv('cactus_identifier_net.csv',index=False,header=True)"
   ]
  },
  {
   "cell_type": "code",
   "execution_count": null,
   "metadata": {},
   "outputs": [],
   "source": []
  },
  {
   "cell_type": "code",
   "execution_count": null,
   "metadata": {},
   "outputs": [],
   "source": []
  },
  {
   "cell_type": "code",
   "execution_count": null,
   "metadata": {},
   "outputs": [],
   "source": []
  }
 ],
 "metadata": {
  "kernelspec": {
   "display_name": "Python 3",
   "language": "python",
   "name": "python3"
  },
  "language_info": {
   "codemirror_mode": {
    "name": "ipython",
    "version": 3
   },
   "file_extension": ".py",
   "mimetype": "text/x-python",
   "name": "python",
   "nbconvert_exporter": "python",
   "pygments_lexer": "ipython3",
   "version": "3.6.6"
  }
 },
 "nbformat": 4,
 "nbformat_minor": 1
}
